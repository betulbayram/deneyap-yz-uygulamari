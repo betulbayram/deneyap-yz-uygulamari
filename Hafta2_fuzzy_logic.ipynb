{
 "cells": [
  {
   "cell_type": "markdown",
   "id": "a4c9783b-c94e-40d8-84fa-855887297a35",
   "metadata": {},
   "source": [
    "### Gerekli kütüphanelerin import edilmesi"
   ]
  },
  {
   "cell_type": "code",
   "execution_count": 1,
   "id": "4992ef1b-4a50-4793-b136-e39738598be0",
   "metadata": {},
   "outputs": [],
   "source": [
    "import numpy as np\n",
    "import skfuzzy as fuzz\n",
    "from skfuzzy import control as ctrl"
   ]
  },
  {
   "cell_type": "markdown",
   "id": "a414324f-675b-4214-a64b-9912ae75650c",
   "metadata": {},
   "source": [
    "#### Giriş parametrelerinin ayarlanması"
   ]
  },
  {
   "cell_type": "code",
   "execution_count": 3,
   "id": "8d6612e4-eb83-48e4-a6eb-4b4385645cab",
   "metadata": {},
   "outputs": [],
   "source": [
    "bulasik_miktari = ctrl.Antecedent(np.arange(0, 100, 1), \"bulasik miktari\")\n",
    "kirlilik = ctrl.Antecedent(np.arange(0, 100, 1), \"kirlilik seviyesi\")"
   ]
  },
  {
   "cell_type": "code",
   "execution_count": 4,
   "id": "f23ae21f-cea0-4acd-a4cc-f0d2a7ae0d9d",
   "metadata": {},
   "outputs": [
    {
     "data": {
      "text/plain": [
       "Antecedent: bulasik miktari"
      ]
     },
     "execution_count": 4,
     "metadata": {},
     "output_type": "execute_result"
    }
   ],
   "source": [
    "bulasik_miktari"
   ]
  },
  {
   "cell_type": "code",
   "execution_count": 5,
   "id": "fbbb007d-bad4-428f-9498-5ce7337e8c23",
   "metadata": {},
   "outputs": [
    {
     "data": {
      "text/plain": [
       "Antecedent: kirlilik seviyesi"
      ]
     },
     "execution_count": 5,
     "metadata": {},
     "output_type": "execute_result"
    }
   ],
   "source": [
    "kirlilik"
   ]
  },
  {
   "cell_type": "markdown",
   "id": "5ab5e657-319e-4654-b6e1-f96904913a4a",
   "metadata": {},
   "source": [
    "#### Çıkış parametresinin ayarlanması"
   ]
  },
  {
   "cell_type": "code",
   "execution_count": 6,
   "id": "c7062934-1c08-468a-ae1d-95b4747e13cc",
   "metadata": {},
   "outputs": [],
   "source": [
    "yikama_suresi = ctrl.Consequent(np.arange(0, 180, 1), \"yıkama zamanı\")"
   ]
  },
  {
   "cell_type": "code",
   "execution_count": 7,
   "id": "019b28b9-eba5-497d-b729-e89e7dd09ed5",
   "metadata": {},
   "outputs": [
    {
     "data": {
      "text/plain": [
       "Consequent: yıkama zamanı"
      ]
     },
     "execution_count": 7,
     "metadata": {},
     "output_type": "execute_result"
    }
   ],
   "source": [
    "yikama_suresi"
   ]
  },
  {
   "cell_type": "markdown",
   "id": "34a9d6e1-6f47-44e5-8b03-a0182bfac055",
   "metadata": {},
   "source": [
    "#### Aralıkların belirlenmesi"
   ]
  },
  {
   "cell_type": "code",
   "execution_count": 8,
   "id": "938a5e7f-3c80-4219-9236-b73d0c7e5f50",
   "metadata": {},
   "outputs": [],
   "source": [
    "bulasik_miktari['az'] = fuzz.trimf(bulasik_miktari.universe, [0, 0, 30])\n",
    "bulasik_miktari['normal'] = fuzz.trimf(bulasik_miktari.universe, [10, 30, 60])\n",
    "bulasik_miktari['çok'] = fuzz.trimf(bulasik_miktari.universe, [50, 60, 100])"
   ]
  },
  {
   "cell_type": "code",
   "execution_count": 9,
   "id": "5be00494-0481-4542-a735-fd2a78481007",
   "metadata": {},
   "outputs": [
    {
     "data": {
      "text/plain": [
       "bulasik miktari[az]"
      ]
     },
     "execution_count": 9,
     "metadata": {},
     "output_type": "execute_result"
    }
   ],
   "source": [
    "bulasik_miktari['az']"
   ]
  },
  {
   "cell_type": "code",
   "execution_count": 10,
   "id": "a10288d9-b35b-4c00-a242-9df3ea0c040d",
   "metadata": {},
   "outputs": [
    {
     "data": {
      "text/plain": [
       "Antecedent: bulasik miktari"
      ]
     },
     "execution_count": 10,
     "metadata": {},
     "output_type": "execute_result"
    }
   ],
   "source": [
    "bulasik_miktari"
   ]
  },
  {
   "cell_type": "code",
   "execution_count": 11,
   "id": "05e3691a-f152-4498-adb7-b0ed09d655fd",
   "metadata": {},
   "outputs": [],
   "source": [
    "kirlilik['az'] = fuzz.trimf(kirlilik.universe, [0, 0, 30])"
   ]
  },
  {
   "cell_type": "code",
   "execution_count": 12,
   "id": "213b4de1-7128-464a-b357-a8622d183469",
   "metadata": {},
   "outputs": [],
   "source": [
    "kirlilik['normal'] = fuzz.trimf(kirlilik.universe, [10, 30, 60])"
   ]
  },
  {
   "cell_type": "code",
   "execution_count": 13,
   "id": "05c8db44-740d-40a5-9453-c3bd3d6d5770",
   "metadata": {},
   "outputs": [],
   "source": [
    "kirlilik['çok'] = fuzz.trimf(kirlilik.universe, [50, 60, 100])"
   ]
  },
  {
   "cell_type": "code",
   "execution_count": 14,
   "id": "e09c200d-1648-40df-8e19-be8bcead3a9a",
   "metadata": {},
   "outputs": [
    {
     "data": {
      "text/plain": [
       "kirlilik seviyesi[çok]"
      ]
     },
     "execution_count": 14,
     "metadata": {},
     "output_type": "execute_result"
    }
   ],
   "source": [
    "kirlilik['çok']"
   ]
  },
  {
   "cell_type": "code",
   "execution_count": 19,
   "id": "e71b82e0-cc9d-4726-9393-536894cdbf36",
   "metadata": {},
   "outputs": [],
   "source": [
    "yikama_suresi['kısa'] = fuzz.trimf(yikama_suresi.universe, [0, 0, 50])\n",
    "yikama_suresi['normal'] = fuzz.trimf(yikama_suresi.universe, [40, 50, 100])\n",
    "yikama_suresi['uzun'] = fuzz.trimf(yikama_suresi.universe, [60, 80, 180])"
   ]
  },
  {
   "cell_type": "code",
   "execution_count": 16,
   "id": "ac4b559e-b2af-4665-83b2-2e21108cf2f1",
   "metadata": {},
   "outputs": [
    {
     "data": {
      "text/plain": [
       "yıkama zamanı[normal]"
      ]
     },
     "execution_count": 16,
     "metadata": {},
     "output_type": "execute_result"
    }
   ],
   "source": [
    "yikama_suresi['normal']"
   ]
  },
  {
   "cell_type": "markdown",
   "id": "71f7e1fc-f386-4d1c-a807-0c79b36abdce",
   "metadata": {},
   "source": [
    "#### Kuralların tanımlanması"
   ]
  },
  {
   "cell_type": "code",
   "execution_count": 21,
   "id": "688c41b1-97c7-445c-83fd-d14024a9493e",
   "metadata": {},
   "outputs": [],
   "source": [
    "kural1 = ctrl.Rule(bulasik_miktari['az'] & kirlilik['az'], yikama_suresi['kısa'])\n",
    "kural2 = ctrl.Rule(bulasik_miktari['normal'] & kirlilik['az'], yikama_suresi['normal'])\n",
    "kural3 = ctrl.Rule(bulasik_miktari['çok'] & kirlilik['az'], yikama_suresi['normal'])\n",
    "kural4 = ctrl.Rule(bulasik_miktari['az'] & kirlilik['normal'], yikama_suresi[\"normal\"])\n",
    "kural5 = ctrl.Rule(bulasik_miktari['normal'] & kirlilik['normal'], yikama_suresi['uzun'])\n",
    "kural6 = ctrl.Rule(bulasik_miktari['çok'] & kirlilik['normal'], yikama_suresi['uzun'])\n",
    "kural7 = ctrl.Rule(bulasik_miktari['az'] & kirlilik['çok'], yikama_suresi['normal'])\n",
    "kural8 = ctrl.Rule(bulasik_miktari['normal'] & kirlilik['çok'], yikama_suresi['uzun'])\n",
    "kural9 = ctrl.Rule(bulasik_miktari['çok'] & kirlilik['çok'], yikama_suresi['uzun'])"
   ]
  },
  {
   "cell_type": "markdown",
   "id": "5fef49ab-ce29-4e76-8233-44fdaa86ebc6",
   "metadata": {},
   "source": [
    "#### Bulanık Kontrol Sisteminin Oluşturulması"
   ]
  },
  {
   "cell_type": "code",
   "execution_count": 22,
   "id": "c8279e8c-2aec-4214-b483-4358500b74b4",
   "metadata": {},
   "outputs": [],
   "source": [
    "sonuc = ctrl.ControlSystem([kural1, kural2, kural3, kural4, kural5, kural6, kural7, kural8, kural9])"
   ]
  },
  {
   "cell_type": "code",
   "execution_count": 23,
   "id": "856d9039-aa65-49e2-9e8e-e55474736709",
   "metadata": {},
   "outputs": [
    {
     "data": {
      "text/plain": [
       "<skfuzzy.control.controlsystem.ControlSystem at 0x1c4983bc110>"
      ]
     },
     "execution_count": 23,
     "metadata": {},
     "output_type": "execute_result"
    }
   ],
   "source": [
    "sonuc"
   ]
  },
  {
   "cell_type": "markdown",
   "id": "fa44d27f-24a8-4990-8715-8ab42665bf37",
   "metadata": {},
   "source": [
    "#### Sistemi Simüle Etme"
   ]
  },
  {
   "cell_type": "code",
   "execution_count": 24,
   "id": "41b19632-b350-4a09-a6e3-5a026eeae871",
   "metadata": {},
   "outputs": [],
   "source": [
    "model_sonuc = ctrl.ControlSystemSimulation(sonuc)"
   ]
  },
  {
   "cell_type": "code",
   "execution_count": 25,
   "id": "3d6214e2-d457-477a-8962-228f2a147d36",
   "metadata": {},
   "outputs": [
    {
     "data": {
      "text/plain": [
       "<skfuzzy.control.controlsystem.ControlSystemSimulation at 0x1c498bf5650>"
      ]
     },
     "execution_count": 25,
     "metadata": {},
     "output_type": "execute_result"
    }
   ],
   "source": [
    "model_sonuc"
   ]
  },
  {
   "cell_type": "markdown",
   "id": "9d62b93b-a7b1-46ea-bdf0-cb9d0b67e694",
   "metadata": {},
   "source": [
    "#### Sistemin Test Edilmesi"
   ]
  },
  {
   "cell_type": "code",
   "execution_count": 38,
   "id": "be4a4a80-757d-4b52-a0c1-388fb617c006",
   "metadata": {},
   "outputs": [],
   "source": [
    "model_sonuc.input['bulasik miktari'] = 99\n",
    "model_sonuc.input['kirlilik seviyesi'] = 99"
   ]
  },
  {
   "cell_type": "code",
   "execution_count": 39,
   "id": "66ee46a4-484d-45f2-8209-6b5ff367caee",
   "metadata": {},
   "outputs": [],
   "source": [
    "model_sonuc.compute()"
   ]
  },
  {
   "cell_type": "code",
   "execution_count": 40,
   "id": "95d5c5f7-72a2-4433-b3ed-8fa87662c01e",
   "metadata": {},
   "outputs": [
    {
     "data": {
      "text/plain": [
       "119.40095801634287"
      ]
     },
     "execution_count": 40,
     "metadata": {},
     "output_type": "execute_result"
    }
   ],
   "source": [
    "model_sonuc.output['yıkama zamanı']"
   ]
  }
 ],
 "metadata": {
  "kernelspec": {
   "display_name": "Python 3 (ipykernel)",
   "language": "python",
   "name": "python3"
  },
  "language_info": {
   "codemirror_mode": {
    "name": "ipython",
    "version": 3
   },
   "file_extension": ".py",
   "mimetype": "text/x-python",
   "name": "python",
   "nbconvert_exporter": "python",
   "pygments_lexer": "ipython3",
   "version": "3.11.4"
  }
 },
 "nbformat": 4,
 "nbformat_minor": 5
}
