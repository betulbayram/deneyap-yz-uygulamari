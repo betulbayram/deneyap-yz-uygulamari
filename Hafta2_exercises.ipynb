{
 "cells": [
  {
   "cell_type": "markdown",
   "id": "f2f84c4e-4a74-4970-b4ed-a1f030f72496",
   "metadata": {},
   "source": [
    "### Numpy"
   ]
  },
  {
   "cell_type": "code",
   "execution_count": 2,
   "id": "f57cc4ad-c58a-4c64-b229-0f25b5bfbfc1",
   "metadata": {},
   "outputs": [],
   "source": [
    "import numpy as np"
   ]
  },
  {
   "cell_type": "code",
   "execution_count": 3,
   "id": "de1e6756-6585-4ab8-b877-7b732287acb3",
   "metadata": {},
   "outputs": [
    {
     "data": {
      "text/plain": [
       "'1.24.3'"
      ]
     },
     "execution_count": 3,
     "metadata": {},
     "output_type": "execute_result"
    }
   ],
   "source": [
    "np.__version__"
   ]
  },
  {
   "cell_type": "code",
   "execution_count": 4,
   "id": "396091a1-2b2a-4ff0-b3bc-78b697579c5a",
   "metadata": {},
   "outputs": [],
   "source": [
    "array = np.zeros(10)"
   ]
  },
  {
   "cell_type": "code",
   "execution_count": 5,
   "id": "f873ed52-6fe8-4183-8466-3fe6caf49943",
   "metadata": {},
   "outputs": [
    {
     "data": {
      "text/plain": [
       "array([0., 0., 0., 0., 0., 0., 0., 0., 0., 0.])"
      ]
     },
     "execution_count": 5,
     "metadata": {},
     "output_type": "execute_result"
    }
   ],
   "source": [
    "array"
   ]
  },
  {
   "cell_type": "code",
   "execution_count": 6,
   "id": "5fcb52ee-0253-4de3-b0f1-523957b70b58",
   "metadata": {},
   "outputs": [
    {
     "data": {
      "text/plain": [
       "array([[0., 0., 0., 0., 0.],\n",
       "       [0., 0., 0., 0., 0.]])"
      ]
     },
     "execution_count": 6,
     "metadata": {},
     "output_type": "execute_result"
    }
   ],
   "source": [
    "array.reshape(2,5)"
   ]
  },
  {
   "cell_type": "code",
   "execution_count": 9,
   "id": "0e2d551b-e874-42f4-b72d-ccbbb93a4697",
   "metadata": {},
   "outputs": [],
   "source": [
    "array2 = np.ones(12)"
   ]
  },
  {
   "cell_type": "code",
   "execution_count": 12,
   "id": "46b24193-fda8-4857-9d56-938f41fbadb0",
   "metadata": {},
   "outputs": [
    {
     "data": {
      "text/plain": [
       "array([[[1., 1., 1.],\n",
       "        [1., 1., 1.]],\n",
       "\n",
       "       [[1., 1., 1.],\n",
       "        [1., 1., 1.]]])"
      ]
     },
     "execution_count": 12,
     "metadata": {},
     "output_type": "execute_result"
    }
   ],
   "source": [
    "array2.reshape(2,2,3)"
   ]
  },
  {
   "cell_type": "code",
   "execution_count": 13,
   "id": "3f1fa37c-3009-45da-a836-64d00a3292da",
   "metadata": {},
   "outputs": [],
   "source": [
    "X = np.random.rand(100)"
   ]
  },
  {
   "cell_type": "code",
   "execution_count": 14,
   "id": "59988dfb-07d7-4062-93ff-407cca633ea4",
   "metadata": {},
   "outputs": [
    {
     "data": {
      "text/plain": [
       "array([0.24854912, 0.34138133, 0.28687266, 0.2825479 , 0.30624133,\n",
       "       0.95221103, 0.89580952, 0.43012446, 0.14883285, 0.9054588 ,\n",
       "       0.79352086, 0.9305897 , 0.93744271, 0.52417297, 0.32322838,\n",
       "       0.46316455, 0.2252725 , 0.02572239, 0.24637708, 0.81377962,\n",
       "       0.92974084, 0.94571942, 0.22317063, 0.20530366, 0.85787567,\n",
       "       0.5605046 , 0.53416191, 0.95545747, 0.02824986, 0.50215679,\n",
       "       0.23364135, 0.80483194, 0.63847814, 0.64368318, 0.79358258,\n",
       "       0.58605353, 0.04346473, 0.80968529, 0.40132271, 0.24200005,\n",
       "       0.50612184, 0.65636245, 0.95711679, 0.36158534, 0.86305171,\n",
       "       0.73001497, 0.07536421, 0.99943932, 0.46539401, 0.55641982,\n",
       "       0.14432944, 0.47142776, 0.86788656, 0.21079032, 0.2185881 ,\n",
       "       0.29971103, 0.60635582, 0.61295331, 0.31841127, 0.31322008,\n",
       "       0.63034348, 0.53071249, 0.62870989, 0.86086291, 0.79837215,\n",
       "       0.45926011, 0.06488094, 0.78009652, 0.52196482, 0.59050961,\n",
       "       0.29563948, 0.78606734, 0.23598654, 0.96890972, 0.56188297,\n",
       "       0.95351263, 0.24994339, 0.84942906, 0.54388629, 0.30159319,\n",
       "       0.30484845, 0.16985551, 0.33656122, 0.12210323, 0.01669307,\n",
       "       0.23481695, 0.10501535, 0.14841988, 0.83402667, 0.35487046,\n",
       "       0.72738699, 0.81110279, 0.16125439, 0.24314316, 0.26122064,\n",
       "       0.312192  , 0.17862377, 0.1517958 , 0.88333636, 0.0940304 ])"
      ]
     },
     "execution_count": 14,
     "metadata": {},
     "output_type": "execute_result"
    }
   ],
   "source": [
    "X"
   ]
  },
  {
   "cell_type": "code",
   "execution_count": 15,
   "id": "365242b7-9fbc-4aeb-8ffc-2ab80d462a23",
   "metadata": {},
   "outputs": [],
   "source": [
    "Y = np.random.rand(100)"
   ]
  },
  {
   "cell_type": "code",
   "execution_count": 16,
   "id": "1b9fca87-e33f-45d6-bdd3-25a571b4461b",
   "metadata": {},
   "outputs": [
    {
     "data": {
      "text/plain": [
       "array([0.33630952, 0.64758662, 0.60805374, 0.00365421, 0.76573876,\n",
       "       0.47653927, 0.5438362 , 0.89607941, 0.9590862 , 0.116462  ,\n",
       "       0.6484917 , 0.33351581, 0.33200452, 0.26587319, 0.09049892,\n",
       "       0.71450735, 0.95938007, 0.74726541, 0.24155681, 0.01384387,\n",
       "       0.43726121, 0.58426217, 0.15693192, 0.83162902, 0.76558842,\n",
       "       0.35580383, 0.87170404, 0.34907199, 0.33181034, 0.88119902,\n",
       "       0.6651103 , 0.41175183, 0.66258658, 0.81077864, 0.43856545,\n",
       "       0.45527242, 0.71830575, 0.63973879, 0.22088707, 0.87691537,\n",
       "       0.53740704, 0.05994089, 0.28400919, 0.65907177, 0.64622834,\n",
       "       0.68527983, 0.7053752 , 0.17998297, 0.12686848, 0.03269713,\n",
       "       0.76348842, 0.74269148, 0.02097701, 0.91175293, 0.51029379,\n",
       "       0.98901932, 0.28563262, 0.73642828, 0.89311745, 0.79506201,\n",
       "       0.13939611, 0.43191807, 0.82796714, 0.18543911, 0.60986655,\n",
       "       0.05076132, 0.69430053, 0.58055125, 0.56267867, 0.14062434,\n",
       "       0.85770247, 0.64522556, 0.52747699, 0.01135408, 0.16701723,\n",
       "       0.93960034, 0.49668349, 0.27713748, 0.47384228, 0.16132481,\n",
       "       0.26499265, 0.08015735, 0.19391173, 0.07451666, 0.88655986,\n",
       "       0.12711215, 0.75505407, 0.92574733, 0.15700944, 0.10394129,\n",
       "       0.3401051 , 0.60082047, 0.68128959, 0.77620033, 0.12223945,\n",
       "       0.1534902 , 0.3098782 , 0.54023278, 0.9346559 , 0.26752907])"
      ]
     },
     "execution_count": 16,
     "metadata": {},
     "output_type": "execute_result"
    }
   ],
   "source": [
    "Y"
   ]
  },
  {
   "cell_type": "markdown",
   "id": "52d0f3b7-8a2e-4429-b0cd-7eb41988c783",
   "metadata": {},
   "source": [
    "## Pandas"
   ]
  },
  {
   "cell_type": "code",
   "execution_count": 17,
   "id": "7fcb28f7-a555-4fb1-8bd7-7157f3bdabce",
   "metadata": {},
   "outputs": [],
   "source": [
    "import pandas as pd"
   ]
  },
  {
   "cell_type": "code",
   "execution_count": 18,
   "id": "9339472d-1f28-4dbc-b670-f131782df935",
   "metadata": {},
   "outputs": [
    {
     "data": {
      "text/plain": [
       "'2.1.0'"
      ]
     },
     "execution_count": 18,
     "metadata": {},
     "output_type": "execute_result"
    }
   ],
   "source": [
    "pd.__version__"
   ]
  },
  {
   "cell_type": "code",
   "execution_count": 21,
   "id": "e7be70d8-923b-4046-b97b-dfe5cf69ef51",
   "metadata": {},
   "outputs": [],
   "source": [
    "data = pd.DataFrame()"
   ]
  },
  {
   "cell_type": "code",
   "execution_count": 22,
   "id": "0c3212e0-54c9-42cc-95db-4322abb92f5b",
   "metadata": {},
   "outputs": [
    {
     "data": {
      "text/html": [
       "<div>\n",
       "<style scoped>\n",
       "    .dataframe tbody tr th:only-of-type {\n",
       "        vertical-align: middle;\n",
       "    }\n",
       "\n",
       "    .dataframe tbody tr th {\n",
       "        vertical-align: top;\n",
       "    }\n",
       "\n",
       "    .dataframe thead th {\n",
       "        text-align: right;\n",
       "    }\n",
       "</style>\n",
       "<table border=\"1\" class=\"dataframe\">\n",
       "  <thead>\n",
       "    <tr style=\"text-align: right;\">\n",
       "      <th></th>\n",
       "    </tr>\n",
       "  </thead>\n",
       "  <tbody>\n",
       "  </tbody>\n",
       "</table>\n",
       "</div>"
      ],
      "text/plain": [
       "Empty DataFrame\n",
       "Columns: []\n",
       "Index: []"
      ]
     },
     "execution_count": 22,
     "metadata": {},
     "output_type": "execute_result"
    }
   ],
   "source": [
    "data"
   ]
  },
  {
   "cell_type": "code",
   "execution_count": 23,
   "id": "94880c89-c179-4a79-b5a9-027cc1906cf1",
   "metadata": {},
   "outputs": [],
   "source": [
    "data['X'] = X"
   ]
  },
  {
   "cell_type": "code",
   "execution_count": 24,
   "id": "f0d15393-aa8a-44da-ad97-4d91b71d3583",
   "metadata": {},
   "outputs": [
    {
     "data": {
      "text/html": [
       "<div>\n",
       "<style scoped>\n",
       "    .dataframe tbody tr th:only-of-type {\n",
       "        vertical-align: middle;\n",
       "    }\n",
       "\n",
       "    .dataframe tbody tr th {\n",
       "        vertical-align: top;\n",
       "    }\n",
       "\n",
       "    .dataframe thead th {\n",
       "        text-align: right;\n",
       "    }\n",
       "</style>\n",
       "<table border=\"1\" class=\"dataframe\">\n",
       "  <thead>\n",
       "    <tr style=\"text-align: right;\">\n",
       "      <th></th>\n",
       "      <th>X</th>\n",
       "    </tr>\n",
       "  </thead>\n",
       "  <tbody>\n",
       "    <tr>\n",
       "      <th>0</th>\n",
       "      <td>0.248549</td>\n",
       "    </tr>\n",
       "    <tr>\n",
       "      <th>1</th>\n",
       "      <td>0.341381</td>\n",
       "    </tr>\n",
       "    <tr>\n",
       "      <th>2</th>\n",
       "      <td>0.286873</td>\n",
       "    </tr>\n",
       "    <tr>\n",
       "      <th>3</th>\n",
       "      <td>0.282548</td>\n",
       "    </tr>\n",
       "    <tr>\n",
       "      <th>4</th>\n",
       "      <td>0.306241</td>\n",
       "    </tr>\n",
       "    <tr>\n",
       "      <th>...</th>\n",
       "      <td>...</td>\n",
       "    </tr>\n",
       "    <tr>\n",
       "      <th>95</th>\n",
       "      <td>0.312192</td>\n",
       "    </tr>\n",
       "    <tr>\n",
       "      <th>96</th>\n",
       "      <td>0.178624</td>\n",
       "    </tr>\n",
       "    <tr>\n",
       "      <th>97</th>\n",
       "      <td>0.151796</td>\n",
       "    </tr>\n",
       "    <tr>\n",
       "      <th>98</th>\n",
       "      <td>0.883336</td>\n",
       "    </tr>\n",
       "    <tr>\n",
       "      <th>99</th>\n",
       "      <td>0.094030</td>\n",
       "    </tr>\n",
       "  </tbody>\n",
       "</table>\n",
       "<p>100 rows × 1 columns</p>\n",
       "</div>"
      ],
      "text/plain": [
       "           X\n",
       "0   0.248549\n",
       "1   0.341381\n",
       "2   0.286873\n",
       "3   0.282548\n",
       "4   0.306241\n",
       "..       ...\n",
       "95  0.312192\n",
       "96  0.178624\n",
       "97  0.151796\n",
       "98  0.883336\n",
       "99  0.094030\n",
       "\n",
       "[100 rows x 1 columns]"
      ]
     },
     "execution_count": 24,
     "metadata": {},
     "output_type": "execute_result"
    }
   ],
   "source": [
    "data"
   ]
  },
  {
   "cell_type": "code",
   "execution_count": 26,
   "id": "9c10f937-6d85-40e0-8e53-36080c0b442f",
   "metadata": {},
   "outputs": [],
   "source": [
    "data['Y'] = Y"
   ]
  },
  {
   "cell_type": "code",
   "execution_count": 27,
   "id": "cabb7e3f-f2a6-434e-a815-b258894c1130",
   "metadata": {},
   "outputs": [
    {
     "data": {
      "text/html": [
       "<div>\n",
       "<style scoped>\n",
       "    .dataframe tbody tr th:only-of-type {\n",
       "        vertical-align: middle;\n",
       "    }\n",
       "\n",
       "    .dataframe tbody tr th {\n",
       "        vertical-align: top;\n",
       "    }\n",
       "\n",
       "    .dataframe thead th {\n",
       "        text-align: right;\n",
       "    }\n",
       "</style>\n",
       "<table border=\"1\" class=\"dataframe\">\n",
       "  <thead>\n",
       "    <tr style=\"text-align: right;\">\n",
       "      <th></th>\n",
       "      <th>X</th>\n",
       "      <th>Y</th>\n",
       "    </tr>\n",
       "  </thead>\n",
       "  <tbody>\n",
       "    <tr>\n",
       "      <th>0</th>\n",
       "      <td>0.248549</td>\n",
       "      <td>0.336310</td>\n",
       "    </tr>\n",
       "    <tr>\n",
       "      <th>1</th>\n",
       "      <td>0.341381</td>\n",
       "      <td>0.647587</td>\n",
       "    </tr>\n",
       "    <tr>\n",
       "      <th>2</th>\n",
       "      <td>0.286873</td>\n",
       "      <td>0.608054</td>\n",
       "    </tr>\n",
       "    <tr>\n",
       "      <th>3</th>\n",
       "      <td>0.282548</td>\n",
       "      <td>0.003654</td>\n",
       "    </tr>\n",
       "    <tr>\n",
       "      <th>4</th>\n",
       "      <td>0.306241</td>\n",
       "      <td>0.765739</td>\n",
       "    </tr>\n",
       "    <tr>\n",
       "      <th>...</th>\n",
       "      <td>...</td>\n",
       "      <td>...</td>\n",
       "    </tr>\n",
       "    <tr>\n",
       "      <th>95</th>\n",
       "      <td>0.312192</td>\n",
       "      <td>0.153490</td>\n",
       "    </tr>\n",
       "    <tr>\n",
       "      <th>96</th>\n",
       "      <td>0.178624</td>\n",
       "      <td>0.309878</td>\n",
       "    </tr>\n",
       "    <tr>\n",
       "      <th>97</th>\n",
       "      <td>0.151796</td>\n",
       "      <td>0.540233</td>\n",
       "    </tr>\n",
       "    <tr>\n",
       "      <th>98</th>\n",
       "      <td>0.883336</td>\n",
       "      <td>0.934656</td>\n",
       "    </tr>\n",
       "    <tr>\n",
       "      <th>99</th>\n",
       "      <td>0.094030</td>\n",
       "      <td>0.267529</td>\n",
       "    </tr>\n",
       "  </tbody>\n",
       "</table>\n",
       "<p>100 rows × 2 columns</p>\n",
       "</div>"
      ],
      "text/plain": [
       "           X         Y\n",
       "0   0.248549  0.336310\n",
       "1   0.341381  0.647587\n",
       "2   0.286873  0.608054\n",
       "3   0.282548  0.003654\n",
       "4   0.306241  0.765739\n",
       "..       ...       ...\n",
       "95  0.312192  0.153490\n",
       "96  0.178624  0.309878\n",
       "97  0.151796  0.540233\n",
       "98  0.883336  0.934656\n",
       "99  0.094030  0.267529\n",
       "\n",
       "[100 rows x 2 columns]"
      ]
     },
     "execution_count": 27,
     "metadata": {},
     "output_type": "execute_result"
    }
   ],
   "source": [
    "data"
   ]
  },
  {
   "cell_type": "code",
   "execution_count": 57,
   "id": "b9968580-274e-4977-9c83-0bd71c0a815f",
   "metadata": {},
   "outputs": [
    {
     "data": {
      "text/plain": [
       "0.4931878888862776"
      ]
     },
     "execution_count": 57,
     "metadata": {},
     "output_type": "execute_result"
    }
   ],
   "source": [
    "data['X'].mean()"
   ]
  },
  {
   "cell_type": "code",
   "execution_count": 28,
   "id": "b755ff69-1043-4bb5-aaf0-83874b162ca9",
   "metadata": {},
   "outputs": [
    {
     "data": {
      "text/html": [
       "<div>\n",
       "<style scoped>\n",
       "    .dataframe tbody tr th:only-of-type {\n",
       "        vertical-align: middle;\n",
       "    }\n",
       "\n",
       "    .dataframe tbody tr th {\n",
       "        vertical-align: top;\n",
       "    }\n",
       "\n",
       "    .dataframe thead th {\n",
       "        text-align: right;\n",
       "    }\n",
       "</style>\n",
       "<table border=\"1\" class=\"dataframe\">\n",
       "  <thead>\n",
       "    <tr style=\"text-align: right;\">\n",
       "      <th></th>\n",
       "      <th>X</th>\n",
       "      <th>Y</th>\n",
       "    </tr>\n",
       "  </thead>\n",
       "  <tbody>\n",
       "    <tr>\n",
       "      <th>0</th>\n",
       "      <td>0.248549</td>\n",
       "      <td>0.336310</td>\n",
       "    </tr>\n",
       "    <tr>\n",
       "      <th>1</th>\n",
       "      <td>0.341381</td>\n",
       "      <td>0.647587</td>\n",
       "    </tr>\n",
       "    <tr>\n",
       "      <th>2</th>\n",
       "      <td>0.286873</td>\n",
       "      <td>0.608054</td>\n",
       "    </tr>\n",
       "    <tr>\n",
       "      <th>3</th>\n",
       "      <td>0.282548</td>\n",
       "      <td>0.003654</td>\n",
       "    </tr>\n",
       "    <tr>\n",
       "      <th>4</th>\n",
       "      <td>0.306241</td>\n",
       "      <td>0.765739</td>\n",
       "    </tr>\n",
       "  </tbody>\n",
       "</table>\n",
       "</div>"
      ],
      "text/plain": [
       "          X         Y\n",
       "0  0.248549  0.336310\n",
       "1  0.341381  0.647587\n",
       "2  0.286873  0.608054\n",
       "3  0.282548  0.003654\n",
       "4  0.306241  0.765739"
      ]
     },
     "execution_count": 28,
     "metadata": {},
     "output_type": "execute_result"
    }
   ],
   "source": [
    "data.head()"
   ]
  },
  {
   "cell_type": "code",
   "execution_count": 29,
   "id": "9ed3a5d8-4514-46b2-a0fc-504d2fdffc68",
   "metadata": {},
   "outputs": [
    {
     "data": {
      "text/html": [
       "<div>\n",
       "<style scoped>\n",
       "    .dataframe tbody tr th:only-of-type {\n",
       "        vertical-align: middle;\n",
       "    }\n",
       "\n",
       "    .dataframe tbody tr th {\n",
       "        vertical-align: top;\n",
       "    }\n",
       "\n",
       "    .dataframe thead th {\n",
       "        text-align: right;\n",
       "    }\n",
       "</style>\n",
       "<table border=\"1\" class=\"dataframe\">\n",
       "  <thead>\n",
       "    <tr style=\"text-align: right;\">\n",
       "      <th></th>\n",
       "      <th>X</th>\n",
       "      <th>Y</th>\n",
       "    </tr>\n",
       "  </thead>\n",
       "  <tbody>\n",
       "    <tr>\n",
       "      <th>0</th>\n",
       "      <td>0.248549</td>\n",
       "      <td>0.336310</td>\n",
       "    </tr>\n",
       "    <tr>\n",
       "      <th>1</th>\n",
       "      <td>0.341381</td>\n",
       "      <td>0.647587</td>\n",
       "    </tr>\n",
       "    <tr>\n",
       "      <th>2</th>\n",
       "      <td>0.286873</td>\n",
       "      <td>0.608054</td>\n",
       "    </tr>\n",
       "    <tr>\n",
       "      <th>3</th>\n",
       "      <td>0.282548</td>\n",
       "      <td>0.003654</td>\n",
       "    </tr>\n",
       "    <tr>\n",
       "      <th>4</th>\n",
       "      <td>0.306241</td>\n",
       "      <td>0.765739</td>\n",
       "    </tr>\n",
       "    <tr>\n",
       "      <th>5</th>\n",
       "      <td>0.952211</td>\n",
       "      <td>0.476539</td>\n",
       "    </tr>\n",
       "    <tr>\n",
       "      <th>6</th>\n",
       "      <td>0.895810</td>\n",
       "      <td>0.543836</td>\n",
       "    </tr>\n",
       "    <tr>\n",
       "      <th>7</th>\n",
       "      <td>0.430124</td>\n",
       "      <td>0.896079</td>\n",
       "    </tr>\n",
       "    <tr>\n",
       "      <th>8</th>\n",
       "      <td>0.148833</td>\n",
       "      <td>0.959086</td>\n",
       "    </tr>\n",
       "    <tr>\n",
       "      <th>9</th>\n",
       "      <td>0.905459</td>\n",
       "      <td>0.116462</td>\n",
       "    </tr>\n",
       "  </tbody>\n",
       "</table>\n",
       "</div>"
      ],
      "text/plain": [
       "          X         Y\n",
       "0  0.248549  0.336310\n",
       "1  0.341381  0.647587\n",
       "2  0.286873  0.608054\n",
       "3  0.282548  0.003654\n",
       "4  0.306241  0.765739\n",
       "5  0.952211  0.476539\n",
       "6  0.895810  0.543836\n",
       "7  0.430124  0.896079\n",
       "8  0.148833  0.959086\n",
       "9  0.905459  0.116462"
      ]
     },
     "execution_count": 29,
     "metadata": {},
     "output_type": "execute_result"
    }
   ],
   "source": [
    "data.head(10)"
   ]
  },
  {
   "cell_type": "code",
   "execution_count": 30,
   "id": "73722af0-2948-4991-9b4e-468ca6a9dba7",
   "metadata": {},
   "outputs": [
    {
     "data": {
      "text/html": [
       "<div>\n",
       "<style scoped>\n",
       "    .dataframe tbody tr th:only-of-type {\n",
       "        vertical-align: middle;\n",
       "    }\n",
       "\n",
       "    .dataframe tbody tr th {\n",
       "        vertical-align: top;\n",
       "    }\n",
       "\n",
       "    .dataframe thead th {\n",
       "        text-align: right;\n",
       "    }\n",
       "</style>\n",
       "<table border=\"1\" class=\"dataframe\">\n",
       "  <thead>\n",
       "    <tr style=\"text-align: right;\">\n",
       "      <th></th>\n",
       "      <th>X</th>\n",
       "      <th>Y</th>\n",
       "    </tr>\n",
       "  </thead>\n",
       "  <tbody>\n",
       "    <tr>\n",
       "      <th>95</th>\n",
       "      <td>0.312192</td>\n",
       "      <td>0.153490</td>\n",
       "    </tr>\n",
       "    <tr>\n",
       "      <th>96</th>\n",
       "      <td>0.178624</td>\n",
       "      <td>0.309878</td>\n",
       "    </tr>\n",
       "    <tr>\n",
       "      <th>97</th>\n",
       "      <td>0.151796</td>\n",
       "      <td>0.540233</td>\n",
       "    </tr>\n",
       "    <tr>\n",
       "      <th>98</th>\n",
       "      <td>0.883336</td>\n",
       "      <td>0.934656</td>\n",
       "    </tr>\n",
       "    <tr>\n",
       "      <th>99</th>\n",
       "      <td>0.094030</td>\n",
       "      <td>0.267529</td>\n",
       "    </tr>\n",
       "  </tbody>\n",
       "</table>\n",
       "</div>"
      ],
      "text/plain": [
       "           X         Y\n",
       "95  0.312192  0.153490\n",
       "96  0.178624  0.309878\n",
       "97  0.151796  0.540233\n",
       "98  0.883336  0.934656\n",
       "99  0.094030  0.267529"
      ]
     },
     "execution_count": 30,
     "metadata": {},
     "output_type": "execute_result"
    }
   ],
   "source": [
    "data.tail()"
   ]
  },
  {
   "cell_type": "code",
   "execution_count": 31,
   "id": "80426f85-44be-4b7c-966b-3e5b11f61248",
   "metadata": {},
   "outputs": [
    {
     "data": {
      "text/html": [
       "<div>\n",
       "<style scoped>\n",
       "    .dataframe tbody tr th:only-of-type {\n",
       "        vertical-align: middle;\n",
       "    }\n",
       "\n",
       "    .dataframe tbody tr th {\n",
       "        vertical-align: top;\n",
       "    }\n",
       "\n",
       "    .dataframe thead th {\n",
       "        text-align: right;\n",
       "    }\n",
       "</style>\n",
       "<table border=\"1\" class=\"dataframe\">\n",
       "  <thead>\n",
       "    <tr style=\"text-align: right;\">\n",
       "      <th></th>\n",
       "      <th>X</th>\n",
       "      <th>Y</th>\n",
       "    </tr>\n",
       "  </thead>\n",
       "  <tbody>\n",
       "    <tr>\n",
       "      <th>93</th>\n",
       "      <td>0.243143</td>\n",
       "      <td>0.776200</td>\n",
       "    </tr>\n",
       "    <tr>\n",
       "      <th>94</th>\n",
       "      <td>0.261221</td>\n",
       "      <td>0.122239</td>\n",
       "    </tr>\n",
       "    <tr>\n",
       "      <th>95</th>\n",
       "      <td>0.312192</td>\n",
       "      <td>0.153490</td>\n",
       "    </tr>\n",
       "    <tr>\n",
       "      <th>96</th>\n",
       "      <td>0.178624</td>\n",
       "      <td>0.309878</td>\n",
       "    </tr>\n",
       "    <tr>\n",
       "      <th>97</th>\n",
       "      <td>0.151796</td>\n",
       "      <td>0.540233</td>\n",
       "    </tr>\n",
       "    <tr>\n",
       "      <th>98</th>\n",
       "      <td>0.883336</td>\n",
       "      <td>0.934656</td>\n",
       "    </tr>\n",
       "    <tr>\n",
       "      <th>99</th>\n",
       "      <td>0.094030</td>\n",
       "      <td>0.267529</td>\n",
       "    </tr>\n",
       "  </tbody>\n",
       "</table>\n",
       "</div>"
      ],
      "text/plain": [
       "           X         Y\n",
       "93  0.243143  0.776200\n",
       "94  0.261221  0.122239\n",
       "95  0.312192  0.153490\n",
       "96  0.178624  0.309878\n",
       "97  0.151796  0.540233\n",
       "98  0.883336  0.934656\n",
       "99  0.094030  0.267529"
      ]
     },
     "execution_count": 31,
     "metadata": {},
     "output_type": "execute_result"
    }
   ],
   "source": [
    "data.tail(7)"
   ]
  },
  {
   "cell_type": "code",
   "execution_count": 32,
   "id": "4c7d316e-1102-44b9-b946-4846beca702b",
   "metadata": {},
   "outputs": [
    {
     "name": "stdout",
     "output_type": "stream",
     "text": [
      "<class 'pandas.core.frame.DataFrame'>\n",
      "RangeIndex: 100 entries, 0 to 99\n",
      "Data columns (total 2 columns):\n",
      " #   Column  Non-Null Count  Dtype  \n",
      "---  ------  --------------  -----  \n",
      " 0   X       100 non-null    float64\n",
      " 1   Y       100 non-null    float64\n",
      "dtypes: float64(2)\n",
      "memory usage: 1.7 KB\n"
     ]
    }
   ],
   "source": [
    "data.info()"
   ]
  },
  {
   "cell_type": "code",
   "execution_count": 33,
   "id": "c812f55e-bc5d-4690-bb3d-272babe0b4c2",
   "metadata": {},
   "outputs": [
    {
     "data": {
      "text/html": [
       "<div>\n",
       "<style scoped>\n",
       "    .dataframe tbody tr th:only-of-type {\n",
       "        vertical-align: middle;\n",
       "    }\n",
       "\n",
       "    .dataframe tbody tr th {\n",
       "        vertical-align: top;\n",
       "    }\n",
       "\n",
       "    .dataframe thead th {\n",
       "        text-align: right;\n",
       "    }\n",
       "</style>\n",
       "<table border=\"1\" class=\"dataframe\">\n",
       "  <thead>\n",
       "    <tr style=\"text-align: right;\">\n",
       "      <th></th>\n",
       "      <th>X</th>\n",
       "      <th>Y</th>\n",
       "    </tr>\n",
       "  </thead>\n",
       "  <tbody>\n",
       "    <tr>\n",
       "      <th>count</th>\n",
       "      <td>100.000000</td>\n",
       "      <td>100.000000</td>\n",
       "    </tr>\n",
       "    <tr>\n",
       "      <th>mean</th>\n",
       "      <td>0.493188</td>\n",
       "      <td>0.488071</td>\n",
       "    </tr>\n",
       "    <tr>\n",
       "      <th>std</th>\n",
       "      <td>0.291542</td>\n",
       "      <td>0.292094</td>\n",
       "    </tr>\n",
       "    <tr>\n",
       "      <th>min</th>\n",
       "      <td>0.016693</td>\n",
       "      <td>0.003654</td>\n",
       "    </tr>\n",
       "    <tr>\n",
       "      <th>25%</th>\n",
       "      <td>0.242857</td>\n",
       "      <td>0.214143</td>\n",
       "    </tr>\n",
       "    <tr>\n",
       "      <th>50%</th>\n",
       "      <td>0.468411</td>\n",
       "      <td>0.518885</td>\n",
       "    </tr>\n",
       "    <tr>\n",
       "      <th>75%</th>\n",
       "      <td>0.793536</td>\n",
       "      <td>0.737994</td>\n",
       "    </tr>\n",
       "    <tr>\n",
       "      <th>max</th>\n",
       "      <td>0.999439</td>\n",
       "      <td>0.989019</td>\n",
       "    </tr>\n",
       "  </tbody>\n",
       "</table>\n",
       "</div>"
      ],
      "text/plain": [
       "                X           Y\n",
       "count  100.000000  100.000000\n",
       "mean     0.493188    0.488071\n",
       "std      0.291542    0.292094\n",
       "min      0.016693    0.003654\n",
       "25%      0.242857    0.214143\n",
       "50%      0.468411    0.518885\n",
       "75%      0.793536    0.737994\n",
       "max      0.999439    0.989019"
      ]
     },
     "execution_count": 33,
     "metadata": {},
     "output_type": "execute_result"
    }
   ],
   "source": [
    "data.describe()"
   ]
  },
  {
   "cell_type": "markdown",
   "id": "2b013230-98e9-4caf-9b7d-2a28f3d09671",
   "metadata": {},
   "source": [
    "## Scipy"
   ]
  },
  {
   "cell_type": "code",
   "execution_count": 34,
   "id": "b9f326ad-5cb9-4a05-847f-09cbe18d3638",
   "metadata": {},
   "outputs": [],
   "source": [
    "import scipy"
   ]
  },
  {
   "cell_type": "code",
   "execution_count": 35,
   "id": "22da2986-d90d-4fae-904a-e4bcbf9fc44f",
   "metadata": {},
   "outputs": [],
   "source": [
    "pi = scipy.constants.pi"
   ]
  },
  {
   "cell_type": "code",
   "execution_count": 36,
   "id": "48696b61-e892-49cc-ac48-706d75ca99ff",
   "metadata": {},
   "outputs": [
    {
     "data": {
      "text/plain": [
       "3.141592653589793"
      ]
     },
     "execution_count": 36,
     "metadata": {},
     "output_type": "execute_result"
    }
   ],
   "source": [
    "pi"
   ]
  },
  {
   "cell_type": "code",
   "execution_count": 37,
   "id": "bb53c0f0-88fc-48aa-b959-e6b8e55928db",
   "metadata": {},
   "outputs": [
    {
     "data": {
      "text/html": [
       "<div>\n",
       "<style scoped>\n",
       "    .dataframe tbody tr th:only-of-type {\n",
       "        vertical-align: middle;\n",
       "    }\n",
       "\n",
       "    .dataframe tbody tr th {\n",
       "        vertical-align: top;\n",
       "    }\n",
       "\n",
       "    .dataframe thead th {\n",
       "        text-align: right;\n",
       "    }\n",
       "</style>\n",
       "<table border=\"1\" class=\"dataframe\">\n",
       "  <thead>\n",
       "    <tr style=\"text-align: right;\">\n",
       "      <th></th>\n",
       "      <th>X</th>\n",
       "      <th>Y</th>\n",
       "    </tr>\n",
       "  </thead>\n",
       "  <tbody>\n",
       "    <tr>\n",
       "      <th>0</th>\n",
       "      <td>0.248549</td>\n",
       "      <td>0.336310</td>\n",
       "    </tr>\n",
       "    <tr>\n",
       "      <th>1</th>\n",
       "      <td>0.341381</td>\n",
       "      <td>0.647587</td>\n",
       "    </tr>\n",
       "    <tr>\n",
       "      <th>2</th>\n",
       "      <td>0.286873</td>\n",
       "      <td>0.608054</td>\n",
       "    </tr>\n",
       "    <tr>\n",
       "      <th>3</th>\n",
       "      <td>0.282548</td>\n",
       "      <td>0.003654</td>\n",
       "    </tr>\n",
       "    <tr>\n",
       "      <th>4</th>\n",
       "      <td>0.306241</td>\n",
       "      <td>0.765739</td>\n",
       "    </tr>\n",
       "    <tr>\n",
       "      <th>...</th>\n",
       "      <td>...</td>\n",
       "      <td>...</td>\n",
       "    </tr>\n",
       "    <tr>\n",
       "      <th>95</th>\n",
       "      <td>0.312192</td>\n",
       "      <td>0.153490</td>\n",
       "    </tr>\n",
       "    <tr>\n",
       "      <th>96</th>\n",
       "      <td>0.178624</td>\n",
       "      <td>0.309878</td>\n",
       "    </tr>\n",
       "    <tr>\n",
       "      <th>97</th>\n",
       "      <td>0.151796</td>\n",
       "      <td>0.540233</td>\n",
       "    </tr>\n",
       "    <tr>\n",
       "      <th>98</th>\n",
       "      <td>0.883336</td>\n",
       "      <td>0.934656</td>\n",
       "    </tr>\n",
       "    <tr>\n",
       "      <th>99</th>\n",
       "      <td>0.094030</td>\n",
       "      <td>0.267529</td>\n",
       "    </tr>\n",
       "  </tbody>\n",
       "</table>\n",
       "<p>100 rows × 2 columns</p>\n",
       "</div>"
      ],
      "text/plain": [
       "           X         Y\n",
       "0   0.248549  0.336310\n",
       "1   0.341381  0.647587\n",
       "2   0.286873  0.608054\n",
       "3   0.282548  0.003654\n",
       "4   0.306241  0.765739\n",
       "..       ...       ...\n",
       "95  0.312192  0.153490\n",
       "96  0.178624  0.309878\n",
       "97  0.151796  0.540233\n",
       "98  0.883336  0.934656\n",
       "99  0.094030  0.267529\n",
       "\n",
       "[100 rows x 2 columns]"
      ]
     },
     "execution_count": 37,
     "metadata": {},
     "output_type": "execute_result"
    }
   ],
   "source": [
    "data"
   ]
  },
  {
   "cell_type": "code",
   "execution_count": 38,
   "id": "2ecc4f18-5fad-4944-b194-c46b2a56abeb",
   "metadata": {},
   "outputs": [],
   "source": [
    "data['pi_y'] = data[\"Y\"].apply(lambda x: x * scipy.constants.pi)"
   ]
  },
  {
   "cell_type": "code",
   "execution_count": 39,
   "id": "440a6b34-60e1-4a1b-90be-cc79783bebd2",
   "metadata": {},
   "outputs": [
    {
     "data": {
      "text/html": [
       "<div>\n",
       "<style scoped>\n",
       "    .dataframe tbody tr th:only-of-type {\n",
       "        vertical-align: middle;\n",
       "    }\n",
       "\n",
       "    .dataframe tbody tr th {\n",
       "        vertical-align: top;\n",
       "    }\n",
       "\n",
       "    .dataframe thead th {\n",
       "        text-align: right;\n",
       "    }\n",
       "</style>\n",
       "<table border=\"1\" class=\"dataframe\">\n",
       "  <thead>\n",
       "    <tr style=\"text-align: right;\">\n",
       "      <th></th>\n",
       "      <th>X</th>\n",
       "      <th>Y</th>\n",
       "      <th>pi_y</th>\n",
       "    </tr>\n",
       "  </thead>\n",
       "  <tbody>\n",
       "    <tr>\n",
       "      <th>0</th>\n",
       "      <td>0.248549</td>\n",
       "      <td>0.336310</td>\n",
       "      <td>1.056548</td>\n",
       "    </tr>\n",
       "    <tr>\n",
       "      <th>1</th>\n",
       "      <td>0.341381</td>\n",
       "      <td>0.647587</td>\n",
       "      <td>2.034453</td>\n",
       "    </tr>\n",
       "    <tr>\n",
       "      <th>2</th>\n",
       "      <td>0.286873</td>\n",
       "      <td>0.608054</td>\n",
       "      <td>1.910257</td>\n",
       "    </tr>\n",
       "    <tr>\n",
       "      <th>3</th>\n",
       "      <td>0.282548</td>\n",
       "      <td>0.003654</td>\n",
       "      <td>0.011480</td>\n",
       "    </tr>\n",
       "    <tr>\n",
       "      <th>4</th>\n",
       "      <td>0.306241</td>\n",
       "      <td>0.765739</td>\n",
       "      <td>2.405639</td>\n",
       "    </tr>\n",
       "    <tr>\n",
       "      <th>...</th>\n",
       "      <td>...</td>\n",
       "      <td>...</td>\n",
       "      <td>...</td>\n",
       "    </tr>\n",
       "    <tr>\n",
       "      <th>95</th>\n",
       "      <td>0.312192</td>\n",
       "      <td>0.153490</td>\n",
       "      <td>0.482204</td>\n",
       "    </tr>\n",
       "    <tr>\n",
       "      <th>96</th>\n",
       "      <td>0.178624</td>\n",
       "      <td>0.309878</td>\n",
       "      <td>0.973511</td>\n",
       "    </tr>\n",
       "    <tr>\n",
       "      <th>97</th>\n",
       "      <td>0.151796</td>\n",
       "      <td>0.540233</td>\n",
       "      <td>1.697191</td>\n",
       "    </tr>\n",
       "    <tr>\n",
       "      <th>98</th>\n",
       "      <td>0.883336</td>\n",
       "      <td>0.934656</td>\n",
       "      <td>2.936308</td>\n",
       "    </tr>\n",
       "    <tr>\n",
       "      <th>99</th>\n",
       "      <td>0.094030</td>\n",
       "      <td>0.267529</td>\n",
       "      <td>0.840467</td>\n",
       "    </tr>\n",
       "  </tbody>\n",
       "</table>\n",
       "<p>100 rows × 3 columns</p>\n",
       "</div>"
      ],
      "text/plain": [
       "           X         Y      pi_y\n",
       "0   0.248549  0.336310  1.056548\n",
       "1   0.341381  0.647587  2.034453\n",
       "2   0.286873  0.608054  1.910257\n",
       "3   0.282548  0.003654  0.011480\n",
       "4   0.306241  0.765739  2.405639\n",
       "..       ...       ...       ...\n",
       "95  0.312192  0.153490  0.482204\n",
       "96  0.178624  0.309878  0.973511\n",
       "97  0.151796  0.540233  1.697191\n",
       "98  0.883336  0.934656  2.936308\n",
       "99  0.094030  0.267529  0.840467\n",
       "\n",
       "[100 rows x 3 columns]"
      ]
     },
     "execution_count": 39,
     "metadata": {},
     "output_type": "execute_result"
    }
   ],
   "source": [
    "data"
   ]
  },
  {
   "cell_type": "code",
   "execution_count": 40,
   "id": "6fb955d9-c5fb-4ef6-8496-dd7c9c5ba12c",
   "metadata": {},
   "outputs": [],
   "source": [
    "data['re_y'] = data[\"pi_y\"].apply(lambda x: x / scipy.constants.pi)"
   ]
  },
  {
   "cell_type": "code",
   "execution_count": 41,
   "id": "d7fbdfe5-2b83-45f7-94c1-a3cf8d0ba9a2",
   "metadata": {},
   "outputs": [
    {
     "data": {
      "text/html": [
       "<div>\n",
       "<style scoped>\n",
       "    .dataframe tbody tr th:only-of-type {\n",
       "        vertical-align: middle;\n",
       "    }\n",
       "\n",
       "    .dataframe tbody tr th {\n",
       "        vertical-align: top;\n",
       "    }\n",
       "\n",
       "    .dataframe thead th {\n",
       "        text-align: right;\n",
       "    }\n",
       "</style>\n",
       "<table border=\"1\" class=\"dataframe\">\n",
       "  <thead>\n",
       "    <tr style=\"text-align: right;\">\n",
       "      <th></th>\n",
       "      <th>X</th>\n",
       "      <th>Y</th>\n",
       "      <th>pi_y</th>\n",
       "      <th>re_y</th>\n",
       "    </tr>\n",
       "  </thead>\n",
       "  <tbody>\n",
       "    <tr>\n",
       "      <th>0</th>\n",
       "      <td>0.248549</td>\n",
       "      <td>0.336310</td>\n",
       "      <td>1.056548</td>\n",
       "      <td>0.336310</td>\n",
       "    </tr>\n",
       "    <tr>\n",
       "      <th>1</th>\n",
       "      <td>0.341381</td>\n",
       "      <td>0.647587</td>\n",
       "      <td>2.034453</td>\n",
       "      <td>0.647587</td>\n",
       "    </tr>\n",
       "    <tr>\n",
       "      <th>2</th>\n",
       "      <td>0.286873</td>\n",
       "      <td>0.608054</td>\n",
       "      <td>1.910257</td>\n",
       "      <td>0.608054</td>\n",
       "    </tr>\n",
       "    <tr>\n",
       "      <th>3</th>\n",
       "      <td>0.282548</td>\n",
       "      <td>0.003654</td>\n",
       "      <td>0.011480</td>\n",
       "      <td>0.003654</td>\n",
       "    </tr>\n",
       "    <tr>\n",
       "      <th>4</th>\n",
       "      <td>0.306241</td>\n",
       "      <td>0.765739</td>\n",
       "      <td>2.405639</td>\n",
       "      <td>0.765739</td>\n",
       "    </tr>\n",
       "    <tr>\n",
       "      <th>...</th>\n",
       "      <td>...</td>\n",
       "      <td>...</td>\n",
       "      <td>...</td>\n",
       "      <td>...</td>\n",
       "    </tr>\n",
       "    <tr>\n",
       "      <th>95</th>\n",
       "      <td>0.312192</td>\n",
       "      <td>0.153490</td>\n",
       "      <td>0.482204</td>\n",
       "      <td>0.153490</td>\n",
       "    </tr>\n",
       "    <tr>\n",
       "      <th>96</th>\n",
       "      <td>0.178624</td>\n",
       "      <td>0.309878</td>\n",
       "      <td>0.973511</td>\n",
       "      <td>0.309878</td>\n",
       "    </tr>\n",
       "    <tr>\n",
       "      <th>97</th>\n",
       "      <td>0.151796</td>\n",
       "      <td>0.540233</td>\n",
       "      <td>1.697191</td>\n",
       "      <td>0.540233</td>\n",
       "    </tr>\n",
       "    <tr>\n",
       "      <th>98</th>\n",
       "      <td>0.883336</td>\n",
       "      <td>0.934656</td>\n",
       "      <td>2.936308</td>\n",
       "      <td>0.934656</td>\n",
       "    </tr>\n",
       "    <tr>\n",
       "      <th>99</th>\n",
       "      <td>0.094030</td>\n",
       "      <td>0.267529</td>\n",
       "      <td>0.840467</td>\n",
       "      <td>0.267529</td>\n",
       "    </tr>\n",
       "  </tbody>\n",
       "</table>\n",
       "<p>100 rows × 4 columns</p>\n",
       "</div>"
      ],
      "text/plain": [
       "           X         Y      pi_y      re_y\n",
       "0   0.248549  0.336310  1.056548  0.336310\n",
       "1   0.341381  0.647587  2.034453  0.647587\n",
       "2   0.286873  0.608054  1.910257  0.608054\n",
       "3   0.282548  0.003654  0.011480  0.003654\n",
       "4   0.306241  0.765739  2.405639  0.765739\n",
       "..       ...       ...       ...       ...\n",
       "95  0.312192  0.153490  0.482204  0.153490\n",
       "96  0.178624  0.309878  0.973511  0.309878\n",
       "97  0.151796  0.540233  1.697191  0.540233\n",
       "98  0.883336  0.934656  2.936308  0.934656\n",
       "99  0.094030  0.267529  0.840467  0.267529\n",
       "\n",
       "[100 rows x 4 columns]"
      ]
     },
     "execution_count": 41,
     "metadata": {},
     "output_type": "execute_result"
    }
   ],
   "source": [
    "data"
   ]
  },
  {
   "cell_type": "markdown",
   "id": "2a406261-6b40-46a6-84c0-00acc1691e71",
   "metadata": {},
   "source": [
    "## Matplotlib"
   ]
  },
  {
   "cell_type": "code",
   "execution_count": 42,
   "id": "dd06806d-4986-46e5-bd8f-6f709e063b9b",
   "metadata": {},
   "outputs": [],
   "source": [
    "import matplotlib.pyplot as plt"
   ]
  },
  {
   "cell_type": "code",
   "execution_count": 49,
   "id": "e1ab9eb1-69cf-431a-b849-a65ee2979dc0",
   "metadata": {},
   "outputs": [
    {
     "data": {
      "text/plain": [
       "Text(0, 0.5, 'X verisi')"
      ]
     },
     "execution_count": 49,
     "metadata": {},
     "output_type": "execute_result"
    },
    {
     "data": {
      "image/png": "[encoded data removed]",
      "text/plain": [
       "<Figure size 640x480 with 1 Axes>"
      ]
     },
     "metadata": {},
     "output_type": "display_data"
    }
   ],
   "source": [
    "plt.scatter(x=data['Y'], y=data['X'])\n",
    "plt.xlabel(\"Y verisi\")\n",
    "plt.ylabel(\"X verisi\")"
   ]
  },
  {
   "cell_type": "code",
   "execution_count": 50,
   "id": "e81304dc-1a9c-4398-9a90-f0e5e22d335c",
   "metadata": {},
   "outputs": [
    {
     "data": {
      "text/plain": [
       "(array([ 8., 10., 19.,  9.,  7., 10.,  7.,  7., 12., 11.]),\n",
       " array([0.01669307, 0.11496769, 0.21324232, 0.31151694, 0.40979157,\n",
       "        0.50806619, 0.60634082, 0.70461544, 0.80289007, 0.90116469,\n",
       "        0.99943932]),\n",
       " <BarContainer object of 10 artists>)"
      ]
     },
     "execution_count": 50,
     "metadata": {},
     "output_type": "execute_result"
    },
    {
     "data": {
      "image/png": "[encoded data removed]",
      "text/plain": [
       "<Figure size 640x480 with 1 Axes>"
      ]
     },
     "metadata": {},
     "output_type": "display_data"
    }
   ],
   "source": [
    "plt.hist(x=data['X'])"
   ]
  },
  {
   "cell_type": "code",
   "execution_count": 51,
   "id": "23b51750-2df9-4b53-a5a1-2124e5def5e8",
   "metadata": {},
   "outputs": [
    {
     "data": {
      "text/plain": [
       "(array([10., 15.,  8.,  8.,  7.,  9., 13., 12.,  9.,  9.]),\n",
       " array([0.00365421, 0.10219072, 0.20072723, 0.29926375, 0.39780026,\n",
       "        0.49633677, 0.59487328, 0.69340979, 0.7919463 , 0.89048281,\n",
       "        0.98901932]),\n",
       " <BarContainer object of 10 artists>)"
      ]
     },
     "execution_count": 51,
     "metadata": {},
     "output_type": "execute_result"
    },
    {
     "data": {
      "image/png": "[encoded data removed]",
      "text/plain": [
       "<Figure size 640x480 with 1 Axes>"
      ]
     },
     "metadata": {},
     "output_type": "display_data"
    }
   ],
   "source": [
    "plt.hist(x=data['Y'])"
   ]
  },
  {
   "cell_type": "code",
   "execution_count": 53,
   "id": "d9123a85-112b-4fb1-9e8c-795a804099d8",
   "metadata": {},
   "outputs": [
    {
     "data": {
      "text/plain": [
       "{'whiskers': [<matplotlib.lines.Line2D at 0x22b47910d50>,\n",
       "  <matplotlib.lines.Line2D at 0x22b47ae7750>],\n",
       " 'caps': [<matplotlib.lines.Line2D at 0x22b47b0aa90>,\n",
       "  <matplotlib.lines.Line2D at 0x22b47b08750>],\n",
       " 'boxes': [<matplotlib.lines.Line2D at 0x22b46fc8e90>],\n",
       " 'medians': [<matplotlib.lines.Line2D at 0x22b47b090d0>],\n",
       " 'fliers': [<matplotlib.lines.Line2D at 0x22b47b095d0>],\n",
       " 'means': []}"
      ]
     },
     "execution_count": 53,
     "metadata": {},
     "output_type": "execute_result"
    },
    {
     "data": {
      "image/png": "[encoded data removed]",
      "text/plain": [
       "<Figure size 640x480 with 1 Axes>"
      ]
     },
     "metadata": {},
     "output_type": "display_data"
    }
   ],
   "source": [
    "plt.boxplot(x=data['Y'])"
   ]
  }
 ],
 "metadata": {
  "kernelspec": {
   "display_name": "Python 3 (ipykernel)",
   "language": "python",
   "name": "python3"
  },
  "language_info": {
   "codemirror_mode": {
    "name": "ipython",
    "version": 3
   },
   "file_extension": ".py",
   "mimetype": "text/x-python",
   "name": "python",
   "nbconvert_exporter": "python",
   "pygments_lexer": "ipython3",
   "version": "3.11.4"
  }
 },
 "nbformat": 4,
 "nbformat_minor": 5
}
