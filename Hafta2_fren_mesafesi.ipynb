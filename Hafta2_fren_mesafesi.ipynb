{
 "cells": [
  {
   "cell_type": "code",
   "execution_count": 1,
   "id": "afbb487f-4a43-483f-a356-29964d5dc888",
   "metadata": {},
   "outputs": [],
   "source": [
    "import numpy as np"
   ]
  },
  {
   "cell_type": "code",
   "execution_count": 2,
   "id": "551e5a32-7f78-4afd-80bc-cf4a767d2ac6",
   "metadata": {},
   "outputs": [],
   "source": [
    "import skfuzzy as fuzz"
   ]
  },
  {
   "cell_type": "code",
   "execution_count": 4,
   "id": "b1809963-8b99-41ed-a442-a1376b6f1ba4",
   "metadata": {},
   "outputs": [],
   "source": [
    "from skfuzzy import control"
   ]
  },
  {
   "cell_type": "code",
   "execution_count": 5,
   "id": "99658e83-7f7b-4a54-9124-2b1bde3469de",
   "metadata": {},
   "outputs": [],
   "source": [
    "mesafe = control.Antecedent(np.arange(0, 50, 1), 'mesafe')"
   ]
  },
  {
   "cell_type": "code",
   "execution_count": 6,
   "id": "bc525ca0-60ef-4dc7-9606-febc5957f3f7",
   "metadata": {},
   "outputs": [],
   "source": [
    "hiz = control.Antecedent(np.arange(0, 100, 1), 'hiz')"
   ]
  },
  {
   "cell_type": "code",
   "execution_count": 7,
   "id": "9bc93f1b-5e9b-4d4e-a910-6ea9063c91f6",
   "metadata": {},
   "outputs": [],
   "source": [
    "fren_basinci = control.Consequent(np.arange(0 ,100, 1), 'fren_basinci')"
   ]
  },
  {
   "cell_type": "code",
   "execution_count": 8,
   "id": "23658f72-7a24-4f00-ab7d-c7175ea2842d",
   "metadata": {},
   "outputs": [],
   "source": [
    "mesafe['çok yakın'] = fuzz.trimf(mesafe.universe, [0, 0, 10])\n",
    "mesafe['yakın'] = fuzz.trimf(mesafe.universe, [5, 15, 25])\n",
    "mesafe['uzak'] = fuzz.trimf(mesafe.universe, [20, 30, 40])\n",
    "mesafe['çok uzak'] = fuzz.trimf(mesafe.universe, [35, 50, 50])"
   ]
  },
  {
   "cell_type": "code",
   "execution_count": 11,
   "id": "7b61e09c-833d-4996-9890-bc6863c5ff4e",
   "metadata": {},
   "outputs": [],
   "source": [
    "hiz['çok yavaş'] = fuzz.trapmf(hiz.universe, [0, 0, 20, 30])\n",
    "hiz['yavaş'] = fuzz.trapmf(hiz.universe, [20, 30, 45, 55])\n",
    "hiz['hızlı'] = fuzz.trapmf(hiz.universe, [45, 55, 70, 80])\n",
    "hiz['çok hızlı'] = fuzz.trapmf(hiz.universe, [0, 80, 100, 100])"
   ]
  },
  {
   "cell_type": "code",
   "execution_count": 12,
   "id": "e819796b-6b69-4c45-9a8a-2ae74c77e298",
   "metadata": {},
   "outputs": [],
   "source": [
    "fren_basinci['çok düşük'] = fuzz.trimf(fren_basinci.universe, [0, 20, 40])\n",
    "fren_basinci['düşük'] = fuzz.trimf(fren_basinci.universe, [20, 40, 60])\n",
    "fren_basinci['yüksek'] = fuzz.trimf(fren_basinci.universe, [40, 60, 80])\n",
    "fren_basinci['çok yüksek'] = fuzz.trimf(fren_basinci.universe, [60, 100, 100])"
   ]
  },
  {
   "cell_type": "code",
   "execution_count": 13,
   "id": "060320dc-dd5c-44df-b58c-de0431cbee27",
   "metadata": {},
   "outputs": [],
   "source": [
    "kural1 = control.Rule(mesafe['çok yakın'] & hiz['çok yavaş'], fren_basinci['çok yüksek'])\n",
    "kural2 = control.Rule(mesafe['yakın'] & hiz['çok yavaş'], fren_basinci['çok düşük'])\n",
    "kural3 = control.Rule(mesafe['çok yakın'] & hiz['yavaş'], fren_basinci['çok yüksek'])\n",
    "kural4 = control.Rule(mesafe['yakın'] & hiz['yavaş'], fren_basinci['düşük'])\n",
    "kural5 = control.Rule(mesafe['uzak'] & hiz['yavaş'], fren_basinci['çok düşük'])\n",
    "kural6 = control.Rule(mesafe['çok yakın'] & hiz['hızlı'], fren_basinci['çok yüksek'])\n",
    "kural7 = control.Rule(mesafe['yakın'] & hiz['hızlı'], fren_basinci['çok yüksek'])\n",
    "kural8 = control.Rule(mesafe['uzak'] & hiz['hızlı'], fren_basinci['çok düşük'])\n",
    "kural9 = control.Rule(mesafe['çok yakın'] & hiz['çok hızlı'], fren_basinci['çok yüksek'])\n",
    "kural10 = control.Rule(mesafe['yakın'] & hiz['çok hızlı'], fren_basinci['yüksek'])\n",
    "kural11 = control.Rule(mesafe['uzak'] & hiz['çok hızlı'], fren_basinci['düşük'])\n",
    "kural12 = control.Rule(mesafe['çok uzak'] & hiz['çok hızlı'], fren_basinci['çok düşük'])"
   ]
  },
  {
   "cell_type": "code",
   "execution_count": 14,
   "id": "b7fff875-b9e9-4576-887f-c540ec9bf415",
   "metadata": {},
   "outputs": [],
   "source": [
    "fren_kontrol = control.ControlSystem([kural1,kural2,kural3,kural4,kural5,kural6,kural7,kural8,kural9,kural10,kural11,kural12])"
   ]
  },
  {
   "cell_type": "code",
   "execution_count": 15,
   "id": "87aa1711-252c-416a-9618-c9832f9dd45a",
   "metadata": {},
   "outputs": [
    {
     "data": {
      "text/plain": [
       "<skfuzzy.control.controlsystem.ControlSystem at 0x1fcfde6fc50>"
      ]
     },
     "execution_count": 15,
     "metadata": {},
     "output_type": "execute_result"
    }
   ],
   "source": [
    "fren_kontrol"
   ]
  },
  {
   "cell_type": "code",
   "execution_count": 16,
   "id": "f7d90624-28fe-43a7-b1fe-9565ebafde14",
   "metadata": {},
   "outputs": [],
   "source": [
    "frenleme = control.ControlSystemSimulation(fren_kontrol)"
   ]
  },
  {
   "cell_type": "code",
   "execution_count": 17,
   "id": "866652c4-b527-4c81-83e6-12b5b1be5159",
   "metadata": {},
   "outputs": [
    {
     "data": {
      "text/plain": [
       "<skfuzzy.control.controlsystem.ControlSystemSimulation at 0x1fcfd7f1150>"
      ]
     },
     "execution_count": 17,
     "metadata": {},
     "output_type": "execute_result"
    }
   ],
   "source": [
    "frenleme"
   ]
  },
  {
   "cell_type": "code",
   "execution_count": 24,
   "id": "8ca1be50-b7d1-4a51-8fca-64d692b9ddd7",
   "metadata": {},
   "outputs": [],
   "source": [
    "frenleme.input['hiz'] = 90\n",
    "frenleme.input['mesafe'] = 50"
   ]
  },
  {
   "cell_type": "code",
   "execution_count": 25,
   "id": "07d81ef2-1cfb-4579-b439-4902990ed41f",
   "metadata": {},
   "outputs": [],
   "source": [
    "frenleme.compute()"
   ]
  },
  {
   "cell_type": "code",
   "execution_count": 26,
   "id": "82940066-1155-4ba1-b081-45407c99c124",
   "metadata": {},
   "outputs": [
    {
     "data": {
      "text/plain": [
       "20.0"
      ]
     },
     "execution_count": 26,
     "metadata": {},
     "output_type": "execute_result"
    }
   ],
   "source": [
    "frenleme.output['fren_basinci']"
   ]
  },
  {
   "cell_type": "code",
   "execution_count": null,
   "id": "7af9fdcd-7710-4a9b-999c-bf8e33fa85d5",
   "metadata": {},
   "outputs": [],
   "source": []
  }
 ],
 "metadata": {
  "kernelspec": {
   "display_name": "Python 3 (ipykernel)",
   "language": "python",
   "name": "python3"
  },
  "language_info": {
   "codemirror_mode": {
    "name": "ipython",
    "version": 3
   },
   "file_extension": ".py",
   "mimetype": "text/x-python",
   "name": "python",
   "nbconvert_exporter": "python",
   "pygments_lexer": "ipython3",
   "version": "3.11.4"
  }
 },
 "nbformat": 4,
 "nbformat_minor": 5
}
